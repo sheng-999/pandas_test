{
  "nbformat": 4,
  "nbformat_minor": 0,
  "metadata": {
    "kernelspec": {
      "display_name": "Python 3",
      "language": "python",
      "name": "python3"
    },
    "language_info": {
      "codemirror_mode": {
        "name": "ipython",
        "version": 3
      },
      "file_extension": ".py",
      "mimetype": "text/x-python",
      "name": "python",
      "nbconvert_exporter": "python",
      "pygments_lexer": "ipython3",
      "version": "3.8.0"
    },
    "colab": {
      "provenance": [],
      "include_colab_link": true
    }
  },
  "cells": [
    {
      "cell_type": "markdown",
      "metadata": {
        "id": "view-in-github",
        "colab_type": "text"
      },
      "source": [
        "<a href=\"https://colab.research.google.com/github/sheng-999/pandas_test/blob/result_file/Shops_orders_analysis.ipynb\" target=\"_parent\"><img src=\"https://colab.research.google.com/assets/colab-badge.svg\" alt=\"Open In Colab\"/></a>"
      ]
    },
    {
      "cell_type": "markdown",
      "metadata": {
        "id": "-JzbMZMGL2W1"
      },
      "source": [
        " ![Emil](data:image/png;base64,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)"
      ]
    },
    {
      "cell_type": "markdown",
      "metadata": {
        "id": "3Io8S5AZL2W3"
      },
      "source": [
        "# Shop orders analysis"
      ]
    },
    {
      "cell_type": "markdown",
      "metadata": {
        "id": "94I936yE-2xu"
      },
      "source": [
        "a) Upload [order_data](https://drive.google.com/file/d/1dVuD1hB3UnX5xhCHFMQ5R4iBdMdJMK4a/view?usp=sharing) in Colab and load it in a DataFrame `df_order`"
      ]
    },
    {
      "cell_type": "code",
      "source": [
        "import pandas as pd\n",
        "\n",
        "df_order = pd.read_csv('/content/sample_data/Tiller_order_data.csv')"
      ],
      "metadata": {
        "id": "CsTHaOeGxcfW",
        "colab": {
          "base_uri": "https://localhost:8080/"
        },
        "outputId": "b91773ca-3fe5-458a-fa7e-b1affb5ab7fc"
      },
      "execution_count": 44,
      "outputs": [
        {
          "output_type": "stream",
          "name": "stderr",
          "text": [
            "<ipython-input-44-f976a6de5831>:3: DtypeWarning: Columns (12) have mixed types. Specify dtype option on import or set low_memory=False.\n",
            "  df_order = pd.read_csv('/content/sample_data/Tiller_order_data.csv')\n"
          ]
        }
      ]
    },
    {
      "cell_type": "code",
      "source": [
        "df_order.columns # show the column names"
      ],
      "metadata": {
        "colab": {
          "base_uri": "https://localhost:8080/"
        },
        "id": "mVq3Rav8Yzds",
        "outputId": "d87c5048-0967-4c13-94a5-e95368bcf38c"
      },
      "execution_count": 45,
      "outputs": [
        {
          "output_type": "execute_result",
          "data": {
            "text/plain": [
              "Index(['id_order', 'id_store', 'id_table', 'id_waiter', 'id_customer',\n",
              "       'id_external', 'id_device', 'date_opened', 'date_closed', 'dim_name',\n",
              "       'dim_status', 'dim_type', 'dim_comment', 'dim_source', 'm_nb_customer',\n",
              "       'm_cached_payed', 'm_cached_price'],\n",
              "      dtype='object')"
            ]
          },
          "metadata": {},
          "execution_count": 45
        }
      ]
    },
    {
      "cell_type": "markdown",
      "source": [
        "b) What does a row represent? What information can you find?"
      ],
      "metadata": {
        "id": "_Tz9C_Fo6W57"
      }
    },
    {
      "cell_type": "markdown",
      "source": [
        "order info"
      ],
      "metadata": {
        "id": "RIwCl3uU-tco"
      }
    },
    {
      "cell_type": "markdown",
      "metadata": {
        "id": "7PFtvyCYuy0P"
      },
      "source": [
        "c) What are the different statuses of an order? How many orders are there per status?"
      ]
    },
    {
      "cell_type": "code",
      "source": [
        "df_order['dim_status'].unique()"
      ],
      "metadata": {
        "colab": {
          "base_uri": "https://localhost:8080/"
        },
        "id": "QDbUCpmMxSDR",
        "outputId": "1c4c4115-f6e6-4da6-96d9-6f9fac9b585a"
      },
      "execution_count": 46,
      "outputs": [
        {
          "output_type": "execute_result",
          "data": {
            "text/plain": [
              "array(['CLOSED', 'IN_PROGRESS'], dtype=object)"
            ]
          },
          "metadata": {},
          "execution_count": 46
        }
      ]
    },
    {
      "cell_type": "code",
      "execution_count": 47,
      "metadata": {
        "id": "oaUCabqUuyVS",
        "colab": {
          "base_uri": "https://localhost:8080/"
        },
        "outputId": "45278340-5fd7-46f8-f10e-1f8de6b829a4"
      },
      "outputs": [
        {
          "output_type": "execute_result",
          "data": {
            "text/plain": [
              "dim_status\n",
              "CLOSED         116939\n",
              "IN_PROGRESS       365\n",
              "Name: id_order, dtype: int64"
            ]
          },
          "metadata": {},
          "execution_count": 47
        }
      ],
      "source": [
        "df_order.groupby(['dim_status']).id_order.count()"
      ]
    },
    {
      "cell_type": "markdown",
      "metadata": {
        "id": "DspKznXmuDuZ"
      },
      "source": [
        "d) What is the proportion of orders with a CLOSE status?"
      ]
    },
    {
      "cell_type": "code",
      "execution_count": 48,
      "metadata": {
        "id": "nKRY5m8kuEFS",
        "colab": {
          "base_uri": "https://localhost:8080/"
        },
        "outputId": "2f11fd29-455c-4cbd-a84a-459f93f8353e"
      },
      "outputs": [
        {
          "output_type": "execute_result",
          "data": {
            "text/plain": [
              "99.68884266521175"
            ]
          },
          "metadata": {},
          "execution_count": 48
        }
      ],
      "source": [
        "closed_status = (df_order['dim_status']=='CLOSED')\n",
        "closed = df_order[closed_status]  # number of status closed\n",
        "# total = df_order.groupby('dim_status')\n",
        "proportion = ((closed['dim_status'].count())/ df_order['dim_status'].count()) * 100\n",
        "proportion\n",
        "\n",
        "# 117304  closed + in progress\n",
        "# 116939  closed\n",
        "# 99.69%"
      ]
    },
    {
      "cell_type": "markdown",
      "metadata": {
        "id": "DRcKAeUstPq9"
      },
      "source": [
        "e) How many restaurants are there? What are their ids?"
      ]
    },
    {
      "cell_type": "code",
      "execution_count": 49,
      "metadata": {
        "id": "L_An80n8s_T9",
        "colab": {
          "base_uri": "https://localhost:8080/"
        },
        "outputId": "414f57fb-f684-4a63-91d3-e065a14e68bf"
      },
      "outputs": [
        {
          "output_type": "execute_result",
          "data": {
            "text/plain": [
              "10"
            ]
          },
          "metadata": {},
          "execution_count": 49
        }
      ],
      "source": [
        "df_order['id_store'].nunique()\n",
        "\n",
        "# number of resto:  10"
      ]
    },
    {
      "cell_type": "code",
      "source": [
        "df_order.id_store.unique()\n",
        "\n",
        "# ids"
      ],
      "metadata": {
        "colab": {
          "base_uri": "https://localhost:8080/"
        },
        "id": "Ah9Xc4FGijf6",
        "outputId": "4ff52456-0a7d-4b55-d21a-0b16d24fd732"
      },
      "execution_count": 50,
      "outputs": [
        {
          "output_type": "execute_result",
          "data": {
            "text/plain": [
              "array([8052, 8347, 8283, 9084, 4337,  360, 1796, 7965, 6293, 4542])"
            ]
          },
          "metadata": {},
          "execution_count": 50
        }
      ]
    },
    {
      "cell_type": "markdown",
      "metadata": {
        "id": "z1AA_gEsGblP"
      },
      "source": [
        "f) Calculate the turnover per restaurant. Which restaurant has the highest turnover?"
      ]
    },
    {
      "cell_type": "code",
      "execution_count": 51,
      "metadata": {
        "id": "YmsHXRrJHAJx",
        "colab": {
          "base_uri": "https://localhost:8080/"
        },
        "outputId": "d4d45050-b66d-4cb9-bb62-65c833114abf"
      },
      "outputs": [
        {
          "output_type": "execute_result",
          "data": {
            "text/plain": [
              "id_store\n",
              "7965    1138690.95\n",
              "4337     865357.89\n",
              "9084     479019.75\n",
              "360      387089.14\n",
              "8283     369822.82\n",
              "6293     359471.00\n",
              "8052     327758.85\n",
              "1796     321099.69\n",
              "4542     243728.69\n",
              "8347         23.00\n",
              "Name: m_cached_payed, dtype: float64"
            ]
          },
          "metadata": {},
          "execution_count": 51
        }
      ],
      "source": [
        "turnover = df_order.groupby('id_store').m_cached_payed.sum().sort_values(ascending = False)\n",
        "turnover"
      ]
    },
    {
      "cell_type": "markdown",
      "metadata": {
        "id": "sLA7m7Rft12b"
      },
      "source": [
        "g) Count the number of orders per restaurant. Which restaurant had the most orders in this data? Is it the same as the one with the highest turnover?\n",
        "\n",
        "hint: use method `.size()`\n",
        "\n"
      ]
    },
    {
      "cell_type": "code",
      "execution_count": 52,
      "metadata": {
        "id": "ryZBJEV5E6jO"
      },
      "outputs": [],
      "source": [
        "# nb_orders = df_order.groupby('id_store').id_order.nunique().sort_values(ascending = False)\n",
        "# it's not the same as turnover"
      ]
    },
    {
      "cell_type": "code",
      "source": [
        "nb = df_order.groupby('id_store').id_order.size().sort_values(ascending = False)\n",
        "nb"
      ],
      "metadata": {
        "colab": {
          "base_uri": "https://localhost:8080/"
        },
        "id": "eMrIj-2hkd8H",
        "outputId": "785e3fda-68e8-4916-ec76-5f3385b40f6d"
      },
      "execution_count": 53,
      "outputs": [
        {
          "output_type": "execute_result",
          "data": {
            "text/plain": [
              "id_store\n",
              "1796    27349\n",
              "4337    20003\n",
              "4542    17641\n",
              "6293    16103\n",
              "8283    10023\n",
              "7965     9091\n",
              "9084     7804\n",
              "8052     4906\n",
              "360      4383\n",
              "8347        1\n",
              "Name: id_order, dtype: int64"
            ]
          },
          "metadata": {},
          "execution_count": 53
        }
      ]
    },
    {
      "cell_type": "markdown",
      "metadata": {
        "id": "MciEHryJHgZT"
      },
      "source": [
        "h) Calculate the average price of an order for each restaurant. Do you think you are facing the same types of restaurants?"
      ]
    },
    {
      "cell_type": "code",
      "execution_count": 54,
      "metadata": {
        "id": "xQPxmRRMHf7b",
        "colab": {
          "base_uri": "https://localhost:8080/",
          "height": 394
        },
        "outputId": "21ff928a-52ef-4db4-a255-7906ff7f68c3"
      },
      "outputs": [
        {
          "output_type": "execute_result",
          "data": {
            "text/plain": [
              "          m_cached_price\n",
              "id_store                \n",
              "7965          125.243202\n",
              "360            88.280662\n",
              "8052           66.807756\n",
              "9084           61.384002\n",
              "4337           43.285872\n",
              "8283           36.897418\n",
              "8347           23.000000\n",
              "6293           22.338570\n",
              "4542           13.819494\n",
              "1796           11.740820"
            ],
            "text/html": [
              "\n",
              "\n",
              "  <div id=\"df-44159029-a508-4ea9-988d-d6559fc2439e\">\n",
              "    <div class=\"colab-df-container\">\n",
              "      <div>\n",
              "<style scoped>\n",
              "    .dataframe tbody tr th:only-of-type {\n",
              "        vertical-align: middle;\n",
              "    }\n",
              "\n",
              "    .dataframe tbody tr th {\n",
              "        vertical-align: top;\n",
              "    }\n",
              "\n",
              "    .dataframe thead th {\n",
              "        text-align: right;\n",
              "    }\n",
              "</style>\n",
              "<table border=\"1\" class=\"dataframe\">\n",
              "  <thead>\n",
              "    <tr style=\"text-align: right;\">\n",
              "      <th></th>\n",
              "      <th>m_cached_price</th>\n",
              "    </tr>\n",
              "    <tr>\n",
              "      <th>id_store</th>\n",
              "      <th></th>\n",
              "    </tr>\n",
              "  </thead>\n",
              "  <tbody>\n",
              "    <tr>\n",
              "      <th>7965</th>\n",
              "      <td>125.243202</td>\n",
              "    </tr>\n",
              "    <tr>\n",
              "      <th>360</th>\n",
              "      <td>88.280662</td>\n",
              "    </tr>\n",
              "    <tr>\n",
              "      <th>8052</th>\n",
              "      <td>66.807756</td>\n",
              "    </tr>\n",
              "    <tr>\n",
              "      <th>9084</th>\n",
              "      <td>61.384002</td>\n",
              "    </tr>\n",
              "    <tr>\n",
              "      <th>4337</th>\n",
              "      <td>43.285872</td>\n",
              "    </tr>\n",
              "    <tr>\n",
              "      <th>8283</th>\n",
              "      <td>36.897418</td>\n",
              "    </tr>\n",
              "    <tr>\n",
              "      <th>8347</th>\n",
              "      <td>23.000000</td>\n",
              "    </tr>\n",
              "    <tr>\n",
              "      <th>6293</th>\n",
              "      <td>22.338570</td>\n",
              "    </tr>\n",
              "    <tr>\n",
              "      <th>4542</th>\n",
              "      <td>13.819494</td>\n",
              "    </tr>\n",
              "    <tr>\n",
              "      <th>1796</th>\n",
              "      <td>11.740820</td>\n",
              "    </tr>\n",
              "  </tbody>\n",
              "</table>\n",
              "</div>\n",
              "      <button class=\"colab-df-convert\" onclick=\"convertToInteractive('df-44159029-a508-4ea9-988d-d6559fc2439e')\"\n",
              "              title=\"Convert this dataframe to an interactive table.\"\n",
              "              style=\"display:none;\">\n",
              "\n",
              "  <svg xmlns=\"http://www.w3.org/2000/svg\" height=\"24px\"viewBox=\"0 0 24 24\"\n",
              "       width=\"24px\">\n",
              "    <path d=\"M0 0h24v24H0V0z\" fill=\"none\"/>\n",
              "    <path d=\"M18.56 5.44l.94 2.06.94-2.06 2.06-.94-2.06-.94-.94-2.06-.94 2.06-2.06.94zm-11 1L8.5 8.5l.94-2.06 2.06-.94-2.06-.94L8.5 2.5l-.94 2.06-2.06.94zm10 10l.94 2.06.94-2.06 2.06-.94-2.06-.94-.94-2.06-.94 2.06-2.06.94z\"/><path d=\"M17.41 7.96l-1.37-1.37c-.4-.4-.92-.59-1.43-.59-.52 0-1.04.2-1.43.59L10.3 9.45l-7.72 7.72c-.78.78-.78 2.05 0 2.83L4 21.41c.39.39.9.59 1.41.59.51 0 1.02-.2 1.41-.59l7.78-7.78 2.81-2.81c.8-.78.8-2.07 0-2.86zM5.41 20L4 18.59l7.72-7.72 1.47 1.35L5.41 20z\"/>\n",
              "  </svg>\n",
              "      </button>\n",
              "\n",
              "\n",
              "\n",
              "    <div id=\"df-7b387269-3f3f-4e92-85a6-764023e727c6\">\n",
              "      <button class=\"colab-df-quickchart\" onclick=\"quickchart('df-7b387269-3f3f-4e92-85a6-764023e727c6')\"\n",
              "              title=\"Suggest charts.\"\n",
              "              style=\"display:none;\">\n",
              "\n",
              "<svg xmlns=\"http://www.w3.org/2000/svg\" height=\"24px\"viewBox=\"0 0 24 24\"\n",
              "     width=\"24px\">\n",
              "    <g>\n",
              "        <path d=\"M19 3H5c-1.1 0-2 .9-2 2v14c0 1.1.9 2 2 2h14c1.1 0 2-.9 2-2V5c0-1.1-.9-2-2-2zM9 17H7v-7h2v7zm4 0h-2V7h2v10zm4 0h-2v-4h2v4z\"/>\n",
              "    </g>\n",
              "</svg>\n",
              "      </button>\n",
              "    </div>\n",
              "\n",
              "<style>\n",
              "  .colab-df-quickchart {\n",
              "    background-color: #E8F0FE;\n",
              "    border: none;\n",
              "    border-radius: 50%;\n",
              "    cursor: pointer;\n",
              "    display: none;\n",
              "    fill: #1967D2;\n",
              "    height: 32px;\n",
              "    padding: 0 0 0 0;\n",
              "    width: 32px;\n",
              "  }\n",
              "\n",
              "  .colab-df-quickchart:hover {\n",
              "    background-color: #E2EBFA;\n",
              "    box-shadow: 0px 1px 2px rgba(60, 64, 67, 0.3), 0px 1px 3px 1px rgba(60, 64, 67, 0.15);\n",
              "    fill: #174EA6;\n",
              "  }\n",
              "\n",
              "  [theme=dark] .colab-df-quickchart {\n",
              "    background-color: #3B4455;\n",
              "    fill: #D2E3FC;\n",
              "  }\n",
              "\n",
              "  [theme=dark] .colab-df-quickchart:hover {\n",
              "    background-color: #434B5C;\n",
              "    box-shadow: 0px 1px 3px 1px rgba(0, 0, 0, 0.15);\n",
              "    filter: drop-shadow(0px 1px 2px rgba(0, 0, 0, 0.3));\n",
              "    fill: #FFFFFF;\n",
              "  }\n",
              "</style>\n",
              "\n",
              "    <script>\n",
              "      async function quickchart(key) {\n",
              "        const containerElement = document.querySelector('#' + key);\n",
              "        const charts = await google.colab.kernel.invokeFunction(\n",
              "            'suggestCharts', [key], {});\n",
              "      }\n",
              "    </script>\n",
              "\n",
              "      <script>\n",
              "\n",
              "function displayQuickchartButton(domScope) {\n",
              "  let quickchartButtonEl =\n",
              "    domScope.querySelector('#df-7b387269-3f3f-4e92-85a6-764023e727c6 button.colab-df-quickchart');\n",
              "  quickchartButtonEl.style.display =\n",
              "    google.colab.kernel.accessAllowed ? 'block' : 'none';\n",
              "}\n",
              "\n",
              "        displayQuickchartButton(document);\n",
              "      </script>\n",
              "      <style>\n",
              "    .colab-df-container {\n",
              "      display:flex;\n",
              "      flex-wrap:wrap;\n",
              "      gap: 12px;\n",
              "    }\n",
              "\n",
              "    .colab-df-convert {\n",
              "      background-color: #E8F0FE;\n",
              "      border: none;\n",
              "      border-radius: 50%;\n",
              "      cursor: pointer;\n",
              "      display: none;\n",
              "      fill: #1967D2;\n",
              "      height: 32px;\n",
              "      padding: 0 0 0 0;\n",
              "      width: 32px;\n",
              "    }\n",
              "\n",
              "    .colab-df-convert:hover {\n",
              "      background-color: #E2EBFA;\n",
              "      box-shadow: 0px 1px 2px rgba(60, 64, 67, 0.3), 0px 1px 3px 1px rgba(60, 64, 67, 0.15);\n",
              "      fill: #174EA6;\n",
              "    }\n",
              "\n",
              "    [theme=dark] .colab-df-convert {\n",
              "      background-color: #3B4455;\n",
              "      fill: #D2E3FC;\n",
              "    }\n",
              "\n",
              "    [theme=dark] .colab-df-convert:hover {\n",
              "      background-color: #434B5C;\n",
              "      box-shadow: 0px 1px 3px 1px rgba(0, 0, 0, 0.15);\n",
              "      filter: drop-shadow(0px 1px 2px rgba(0, 0, 0, 0.3));\n",
              "      fill: #FFFFFF;\n",
              "    }\n",
              "  </style>\n",
              "\n",
              "      <script>\n",
              "        const buttonEl =\n",
              "          document.querySelector('#df-44159029-a508-4ea9-988d-d6559fc2439e button.colab-df-convert');\n",
              "        buttonEl.style.display =\n",
              "          google.colab.kernel.accessAllowed ? 'block' : 'none';\n",
              "\n",
              "        async function convertToInteractive(key) {\n",
              "          const element = document.querySelector('#df-44159029-a508-4ea9-988d-d6559fc2439e');\n",
              "          const dataTable =\n",
              "            await google.colab.kernel.invokeFunction('convertToInteractive',\n",
              "                                                     [key], {});\n",
              "          if (!dataTable) return;\n",
              "\n",
              "          const docLinkHtml = 'Like what you see? Visit the ' +\n",
              "            '<a target=\"_blank\" href=https://colab.research.google.com/notebooks/data_table.ipynb>data table notebook</a>'\n",
              "            + ' to learn more about interactive tables.';\n",
              "          element.innerHTML = '';\n",
              "          dataTable['output_type'] = 'display_data';\n",
              "          await google.colab.output.renderOutput(dataTable, element);\n",
              "          const docLink = document.createElement('div');\n",
              "          docLink.innerHTML = docLinkHtml;\n",
              "          element.appendChild(docLink);\n",
              "        }\n",
              "      </script>\n",
              "    </div>\n",
              "  </div>\n"
            ]
          },
          "metadata": {},
          "execution_count": 54
        }
      ],
      "source": [
        "avg_price = df_order.groupby(['id_store'])[['m_cached_price']].mean().sort_values(by = 'm_cached_price', ascending = False)\n",
        "avg_price\n",
        "\n",
        "# the 1st one is the same with rank 1st turnover\n",
        "# they are not same type of restos"
      ]
    },
    {
      "cell_type": "markdown",
      "metadata": {
        "id": "AO8vSsMQLFvL"
      },
      "source": [
        "i) The problem is that an order may be placed for several people. Instead, we want to know the average price spent by a single person in the restaurant.\n",
        "\n",
        "Add a column to the initial dataframe,  representing the price of the order per customer"
      ]
    },
    {
      "cell_type": "code",
      "execution_count": 70,
      "metadata": {
        "id": "uuafguQgLBsb",
        "colab": {
          "base_uri": "https://localhost:8080/",
          "height": 531
        },
        "outputId": "ab3ea28b-fa19-4c69-83ff-b7fcea03bf77"
      },
      "outputs": [
        {
          "output_type": "execute_result",
          "data": {
            "text/plain": [
              "   id_order  id_store  id_table  id_waiter  id_customer  \\\n",
              "0  55538867      8052       NaN        NaN          NaN   \n",
              "1  56035309      8052       NaN        NaN          NaN   \n",
              "2  55550051      8052       NaN        NaN          NaN   \n",
              "3  57000119      8052       NaN    16199.0          NaN   \n",
              "4  55558817      8052       NaN        NaN          NaN   \n",
              "\n",
              "                            id_external  id_device               date_opened  \\\n",
              "0  0425716B-EFF4-41CA-AEA1-839104F36833    15327.0 2019-01-12 13:02:17+00:00   \n",
              "1  75E41FE2-64FF-41D3-954C-A7DE4AA887EF    15327.0 2019-01-16 19:39:09+00:00   \n",
              "2  F6051A05-C9AC-4033-BF72-BB5149B8F439    15327.0 2019-01-12 14:18:46+00:00   \n",
              "3  B8BEEC66-1C10-48A0-B4D5-035CB5EEFE62    15327.0 2019-01-24 17:49:12+00:00   \n",
              "4  17F0533C-2FF1-4FC5-A50D-12704C7B7A4B    15327.0 2019-01-12 15:25:06+00:00   \n",
              "\n",
              "                date_closed                    dim_name dim_status  dim_type  \\\n",
              "0 2019-01-12 19:58:38+00:00                     vincent     CLOSED         1   \n",
              "1 2019-01-16 22:10:50+00:00  frere et soeur avec pierre     CLOSED         1   \n",
              "2 2019-01-12 19:50:32+00:00                      rachel     CLOSED         1   \n",
              "3 2019-01-24 21:58:59+00:00                  Groupe PEL     CLOSED         1   \n",
              "4 2019-01-12 19:21:03+00:00                remi et date     CLOSED         1   \n",
              "\n",
              "  dim_comment    dim_source  m_nb_customer  m_cached_payed  m_cached_price  \\\n",
              "0         NaN   Tiller iPAD              1            45.5            45.5   \n",
              "1         NaN   Tiller iPAD              2            49.8            49.8   \n",
              "2         NaN   Tiller iPAD              1            27.4            27.4   \n",
              "3         NaN  tiller-order              3            60.0            60.0   \n",
              "4         NaN   Tiller iPAD              2            39.9            39.9   \n",
              "\n",
              "   price_per_customer  time_sessions  \n",
              "0               45.50     416.350000  \n",
              "1               24.90     151.683333  \n",
              "2               27.40     331.766667  \n",
              "3               20.00     249.783333  \n",
              "4               19.95     235.950000  "
            ],
            "text/html": [
              "\n",
              "\n",
              "  <div id=\"df-91ae596e-99f4-4494-9a52-24a1f62fc3a2\">\n",
              "    <div class=\"colab-df-container\">\n",
              "      <div>\n",
              "<style scoped>\n",
              "    .dataframe tbody tr th:only-of-type {\n",
              "        vertical-align: middle;\n",
              "    }\n",
              "\n",
              "    .dataframe tbody tr th {\n",
              "        vertical-align: top;\n",
              "    }\n",
              "\n",
              "    .dataframe thead th {\n",
              "        text-align: right;\n",
              "    }\n",
              "</style>\n",
              "<table border=\"1\" class=\"dataframe\">\n",
              "  <thead>\n",
              "    <tr style=\"text-align: right;\">\n",
              "      <th></th>\n",
              "      <th>id_order</th>\n",
              "      <th>id_store</th>\n",
              "      <th>id_table</th>\n",
              "      <th>id_waiter</th>\n",
              "      <th>id_customer</th>\n",
              "      <th>id_external</th>\n",
              "      <th>id_device</th>\n",
              "      <th>date_opened</th>\n",
              "      <th>date_closed</th>\n",
              "      <th>dim_name</th>\n",
              "      <th>dim_status</th>\n",
              "      <th>dim_type</th>\n",
              "      <th>dim_comment</th>\n",
              "      <th>dim_source</th>\n",
              "      <th>m_nb_customer</th>\n",
              "      <th>m_cached_payed</th>\n",
              "      <th>m_cached_price</th>\n",
              "      <th>price_per_customer</th>\n",
              "      <th>time_sessions</th>\n",
              "    </tr>\n",
              "  </thead>\n",
              "  <tbody>\n",
              "    <tr>\n",
              "      <th>0</th>\n",
              "      <td>55538867</td>\n",
              "      <td>8052</td>\n",
              "      <td>NaN</td>\n",
              "      <td>NaN</td>\n",
              "      <td>NaN</td>\n",
              "      <td>0425716B-EFF4-41CA-AEA1-839104F36833</td>\n",
              "      <td>15327.0</td>\n",
              "      <td>2019-01-12 13:02:17+00:00</td>\n",
              "      <td>2019-01-12 19:58:38+00:00</td>\n",
              "      <td>vincent</td>\n",
              "      <td>CLOSED</td>\n",
              "      <td>1</td>\n",
              "      <td>NaN</td>\n",
              "      <td>Tiller iPAD</td>\n",
              "      <td>1</td>\n",
              "      <td>45.5</td>\n",
              "      <td>45.5</td>\n",
              "      <td>45.50</td>\n",
              "      <td>416.350000</td>\n",
              "    </tr>\n",
              "    <tr>\n",
              "      <th>1</th>\n",
              "      <td>56035309</td>\n",
              "      <td>8052</td>\n",
              "      <td>NaN</td>\n",
              "      <td>NaN</td>\n",
              "      <td>NaN</td>\n",
              "      <td>75E41FE2-64FF-41D3-954C-A7DE4AA887EF</td>\n",
              "      <td>15327.0</td>\n",
              "      <td>2019-01-16 19:39:09+00:00</td>\n",
              "      <td>2019-01-16 22:10:50+00:00</td>\n",
              "      <td>frere et soeur avec pierre</td>\n",
              "      <td>CLOSED</td>\n",
              "      <td>1</td>\n",
              "      <td>NaN</td>\n",
              "      <td>Tiller iPAD</td>\n",
              "      <td>2</td>\n",
              "      <td>49.8</td>\n",
              "      <td>49.8</td>\n",
              "      <td>24.90</td>\n",
              "      <td>151.683333</td>\n",
              "    </tr>\n",
              "    <tr>\n",
              "      <th>2</th>\n",
              "      <td>55550051</td>\n",
              "      <td>8052</td>\n",
              "      <td>NaN</td>\n",
              "      <td>NaN</td>\n",
              "      <td>NaN</td>\n",
              "      <td>F6051A05-C9AC-4033-BF72-BB5149B8F439</td>\n",
              "      <td>15327.0</td>\n",
              "      <td>2019-01-12 14:18:46+00:00</td>\n",
              "      <td>2019-01-12 19:50:32+00:00</td>\n",
              "      <td>rachel</td>\n",
              "      <td>CLOSED</td>\n",
              "      <td>1</td>\n",
              "      <td>NaN</td>\n",
              "      <td>Tiller iPAD</td>\n",
              "      <td>1</td>\n",
              "      <td>27.4</td>\n",
              "      <td>27.4</td>\n",
              "      <td>27.40</td>\n",
              "      <td>331.766667</td>\n",
              "    </tr>\n",
              "    <tr>\n",
              "      <th>3</th>\n",
              "      <td>57000119</td>\n",
              "      <td>8052</td>\n",
              "      <td>NaN</td>\n",
              "      <td>16199.0</td>\n",
              "      <td>NaN</td>\n",
              "      <td>B8BEEC66-1C10-48A0-B4D5-035CB5EEFE62</td>\n",
              "      <td>15327.0</td>\n",
              "      <td>2019-01-24 17:49:12+00:00</td>\n",
              "      <td>2019-01-24 21:58:59+00:00</td>\n",
              "      <td>Groupe PEL</td>\n",
              "      <td>CLOSED</td>\n",
              "      <td>1</td>\n",
              "      <td>NaN</td>\n",
              "      <td>tiller-order</td>\n",
              "      <td>3</td>\n",
              "      <td>60.0</td>\n",
              "      <td>60.0</td>\n",
              "      <td>20.00</td>\n",
              "      <td>249.783333</td>\n",
              "    </tr>\n",
              "    <tr>\n",
              "      <th>4</th>\n",
              "      <td>55558817</td>\n",
              "      <td>8052</td>\n",
              "      <td>NaN</td>\n",
              "      <td>NaN</td>\n",
              "      <td>NaN</td>\n",
              "      <td>17F0533C-2FF1-4FC5-A50D-12704C7B7A4B</td>\n",
              "      <td>15327.0</td>\n",
              "      <td>2019-01-12 15:25:06+00:00</td>\n",
              "      <td>2019-01-12 19:21:03+00:00</td>\n",
              "      <td>remi et date</td>\n",
              "      <td>CLOSED</td>\n",
              "      <td>1</td>\n",
              "      <td>NaN</td>\n",
              "      <td>Tiller iPAD</td>\n",
              "      <td>2</td>\n",
              "      <td>39.9</td>\n",
              "      <td>39.9</td>\n",
              "      <td>19.95</td>\n",
              "      <td>235.950000</td>\n",
              "    </tr>\n",
              "  </tbody>\n",
              "</table>\n",
              "</div>\n",
              "      <button class=\"colab-df-convert\" onclick=\"convertToInteractive('df-91ae596e-99f4-4494-9a52-24a1f62fc3a2')\"\n",
              "              title=\"Convert this dataframe to an interactive table.\"\n",
              "              style=\"display:none;\">\n",
              "\n",
              "  <svg xmlns=\"http://www.w3.org/2000/svg\" height=\"24px\"viewBox=\"0 0 24 24\"\n",
              "       width=\"24px\">\n",
              "    <path d=\"M0 0h24v24H0V0z\" fill=\"none\"/>\n",
              "    <path d=\"M18.56 5.44l.94 2.06.94-2.06 2.06-.94-2.06-.94-.94-2.06-.94 2.06-2.06.94zm-11 1L8.5 8.5l.94-2.06 2.06-.94-2.06-.94L8.5 2.5l-.94 2.06-2.06.94zm10 10l.94 2.06.94-2.06 2.06-.94-2.06-.94-.94-2.06-.94 2.06-2.06.94z\"/><path d=\"M17.41 7.96l-1.37-1.37c-.4-.4-.92-.59-1.43-.59-.52 0-1.04.2-1.43.59L10.3 9.45l-7.72 7.72c-.78.78-.78 2.05 0 2.83L4 21.41c.39.39.9.59 1.41.59.51 0 1.02-.2 1.41-.59l7.78-7.78 2.81-2.81c.8-.78.8-2.07 0-2.86zM5.41 20L4 18.59l7.72-7.72 1.47 1.35L5.41 20z\"/>\n",
              "  </svg>\n",
              "      </button>\n",
              "\n",
              "\n",
              "\n",
              "    <div id=\"df-6056cd46-a296-45fb-8818-431262250612\">\n",
              "      <button class=\"colab-df-quickchart\" onclick=\"quickchart('df-6056cd46-a296-45fb-8818-431262250612')\"\n",
              "              title=\"Suggest charts.\"\n",
              "              style=\"display:none;\">\n",
              "\n",
              "<svg xmlns=\"http://www.w3.org/2000/svg\" height=\"24px\"viewBox=\"0 0 24 24\"\n",
              "     width=\"24px\">\n",
              "    <g>\n",
              "        <path d=\"M19 3H5c-1.1 0-2 .9-2 2v14c0 1.1.9 2 2 2h14c1.1 0 2-.9 2-2V5c0-1.1-.9-2-2-2zM9 17H7v-7h2v7zm4 0h-2V7h2v10zm4 0h-2v-4h2v4z\"/>\n",
              "    </g>\n",
              "</svg>\n",
              "      </button>\n",
              "    </div>\n",
              "\n",
              "<style>\n",
              "  .colab-df-quickchart {\n",
              "    background-color: #E8F0FE;\n",
              "    border: none;\n",
              "    border-radius: 50%;\n",
              "    cursor: pointer;\n",
              "    display: none;\n",
              "    fill: #1967D2;\n",
              "    height: 32px;\n",
              "    padding: 0 0 0 0;\n",
              "    width: 32px;\n",
              "  }\n",
              "\n",
              "  .colab-df-quickchart:hover {\n",
              "    background-color: #E2EBFA;\n",
              "    box-shadow: 0px 1px 2px rgba(60, 64, 67, 0.3), 0px 1px 3px 1px rgba(60, 64, 67, 0.15);\n",
              "    fill: #174EA6;\n",
              "  }\n",
              "\n",
              "  [theme=dark] .colab-df-quickchart {\n",
              "    background-color: #3B4455;\n",
              "    fill: #D2E3FC;\n",
              "  }\n",
              "\n",
              "  [theme=dark] .colab-df-quickchart:hover {\n",
              "    background-color: #434B5C;\n",
              "    box-shadow: 0px 1px 3px 1px rgba(0, 0, 0, 0.15);\n",
              "    filter: drop-shadow(0px 1px 2px rgba(0, 0, 0, 0.3));\n",
              "    fill: #FFFFFF;\n",
              "  }\n",
              "</style>\n",
              "\n",
              "    <script>\n",
              "      async function quickchart(key) {\n",
              "        const containerElement = document.querySelector('#' + key);\n",
              "        const charts = await google.colab.kernel.invokeFunction(\n",
              "            'suggestCharts', [key], {});\n",
              "      }\n",
              "    </script>\n",
              "\n",
              "      <script>\n",
              "\n",
              "function displayQuickchartButton(domScope) {\n",
              "  let quickchartButtonEl =\n",
              "    domScope.querySelector('#df-6056cd46-a296-45fb-8818-431262250612 button.colab-df-quickchart');\n",
              "  quickchartButtonEl.style.display =\n",
              "    google.colab.kernel.accessAllowed ? 'block' : 'none';\n",
              "}\n",
              "\n",
              "        displayQuickchartButton(document);\n",
              "      </script>\n",
              "      <style>\n",
              "    .colab-df-container {\n",
              "      display:flex;\n",
              "      flex-wrap:wrap;\n",
              "      gap: 12px;\n",
              "    }\n",
              "\n",
              "    .colab-df-convert {\n",
              "      background-color: #E8F0FE;\n",
              "      border: none;\n",
              "      border-radius: 50%;\n",
              "      cursor: pointer;\n",
              "      display: none;\n",
              "      fill: #1967D2;\n",
              "      height: 32px;\n",
              "      padding: 0 0 0 0;\n",
              "      width: 32px;\n",
              "    }\n",
              "\n",
              "    .colab-df-convert:hover {\n",
              "      background-color: #E2EBFA;\n",
              "      box-shadow: 0px 1px 2px rgba(60, 64, 67, 0.3), 0px 1px 3px 1px rgba(60, 64, 67, 0.15);\n",
              "      fill: #174EA6;\n",
              "    }\n",
              "\n",
              "    [theme=dark] .colab-df-convert {\n",
              "      background-color: #3B4455;\n",
              "      fill: #D2E3FC;\n",
              "    }\n",
              "\n",
              "    [theme=dark] .colab-df-convert:hover {\n",
              "      background-color: #434B5C;\n",
              "      box-shadow: 0px 1px 3px 1px rgba(0, 0, 0, 0.15);\n",
              "      filter: drop-shadow(0px 1px 2px rgba(0, 0, 0, 0.3));\n",
              "      fill: #FFFFFF;\n",
              "    }\n",
              "  </style>\n",
              "\n",
              "      <script>\n",
              "        const buttonEl =\n",
              "          document.querySelector('#df-91ae596e-99f4-4494-9a52-24a1f62fc3a2 button.colab-df-convert');\n",
              "        buttonEl.style.display =\n",
              "          google.colab.kernel.accessAllowed ? 'block' : 'none';\n",
              "\n",
              "        async function convertToInteractive(key) {\n",
              "          const element = document.querySelector('#df-91ae596e-99f4-4494-9a52-24a1f62fc3a2');\n",
              "          const dataTable =\n",
              "            await google.colab.kernel.invokeFunction('convertToInteractive',\n",
              "                                                     [key], {});\n",
              "          if (!dataTable) return;\n",
              "\n",
              "          const docLinkHtml = 'Like what you see? Visit the ' +\n",
              "            '<a target=\"_blank\" href=https://colab.research.google.com/notebooks/data_table.ipynb>data table notebook</a>'\n",
              "            + ' to learn more about interactive tables.';\n",
              "          element.innerHTML = '';\n",
              "          dataTable['output_type'] = 'display_data';\n",
              "          await google.colab.output.renderOutput(dataTable, element);\n",
              "          const docLink = document.createElement('div');\n",
              "          docLink.innerHTML = docLinkHtml;\n",
              "          element.appendChild(docLink);\n",
              "        }\n",
              "      </script>\n",
              "    </div>\n",
              "  </div>\n"
            ]
          },
          "metadata": {},
          "execution_count": 70
        }
      ],
      "source": [
        "df_order['price_per_customer'] = df_order['m_cached_price'] / df_order['m_nb_customer']\n",
        "df_order.head()"
      ]
    },
    {
      "cell_type": "markdown",
      "metadata": {
        "id": "qelSfFgsNBmB"
      },
      "source": [
        "j) Using the previous column, calculate the average price spent by each person in each of the restaurants."
      ]
    },
    {
      "cell_type": "code",
      "execution_count": 68,
      "metadata": {
        "id": "FDmNUDEANfKr",
        "colab": {
          "base_uri": "https://localhost:8080/"
        },
        "outputId": "da29d451-b88b-439f-e77d-062cdd9bb15a"
      },
      "outputs": [
        {
          "output_type": "execute_result",
          "data": {
            "text/plain": [
              "id_store\n",
              "8283    36.901100\n",
              "8052    16.722518\n",
              "4542    13.821061\n",
              "8347    11.500000\n",
              "360           NaN\n",
              "1796          NaN\n",
              "4337          NaN\n",
              "6293          NaN\n",
              "7965          NaN\n",
              "9084          NaN\n",
              "Name: price_per_customer, dtype: float64"
            ]
          },
          "metadata": {},
          "execution_count": 68
        }
      ],
      "source": [
        "df_order.groupby(['id_store'])['price_per_customer'].mean().sort_values(ascending = False)"
      ]
    },
    {
      "cell_type": "markdown",
      "metadata": {
        "id": "BMspTKGpPgB6"
      },
      "source": [
        "k) It seems that there are data problems because for some restaurants the average price is lower than for others.\n",
        "\n",
        "Do you have any idea why?\n",
        "\n",
        "Fill the 0 values in the m_nb_customer column with 1 and then delete the rows where the m_cached_price column is 0"
      ]
    },
    {
      "cell_type": "code",
      "execution_count": 57,
      "metadata": {
        "id": "0Abq1T50PQjQ"
      },
      "outputs": [],
      "source": [
        "# df_order['m_nb_customer'] = df_order.m_nb_customer.replace(0,1)\n",
        "# re-define the colum with replace function\n",
        "\n",
        "\"\"\"\n",
        "notice:\n",
        "A value is trying to be set on a copy of a slice from a DataFrame.\n",
        "Try using .loc[row_indexer,col_indexer] = value instead\n",
        "\"\"\"\n",
        "\n",
        "df_order.loc[df_order.m_nb_customer == 0, 'm_nb_customer'] = 1"
      ]
    },
    {
      "cell_type": "code",
      "source": [
        "df_order = df_order[df_order['m_cached_price'] > 0] # choose price not 0, then re-define the dataframe\n",
        "\n",
        "# (df_order['m_nb_customer'] == 0).all()   --> False"
      ],
      "metadata": {
        "id": "B0CF--mzqhBI"
      },
      "execution_count": 72,
      "outputs": []
    },
    {
      "cell_type": "markdown",
      "metadata": {
        "id": "qYKGt6GlRQ_m"
      },
      "source": [
        "l) Recalculate the price_per_customer column and the average price spent by each person in each restaurant."
      ]
    },
    {
      "cell_type": "code",
      "execution_count": 73,
      "metadata": {
        "id": "oLQY0R__OhkA",
        "colab": {
          "base_uri": "https://localhost:8080/"
        },
        "outputId": "3abb5391-6de2-4aa3-b5db-843221308bdd"
      },
      "outputs": [
        {
          "output_type": "execute_result",
          "data": {
            "text/plain": [
              "id_store\n",
              "7965    102.433918\n",
              "4337     43.334787\n",
              "8283     36.901100\n",
              "360      32.073823\n",
              "9084     30.570348\n",
              "6293     16.810087\n",
              "8052     16.722518\n",
              "4542     13.821061\n",
              "1796     11.832542\n",
              "8347     11.500000\n",
              "Name: price_per_customer, dtype: float64"
            ]
          },
          "metadata": {},
          "execution_count": 73
        }
      ],
      "source": [
        "df_order.groupby(['id_store'])['price_per_customer'].mean().sort_values(ascending = False)"
      ]
    },
    {
      "cell_type": "markdown",
      "metadata": {
        "id": "rPpEDlRQR0dP"
      },
      "source": [
        "### Adding info"
      ]
    },
    {
      "cell_type": "markdown",
      "metadata": {
        "id": "gtgNDxu-Sk04"
      },
      "source": [
        "Restaurant 7965 has a higher price per person than the rest. Let's look at the time spent at the table to see if it can match a fancy restaurant."
      ]
    },
    {
      "cell_type": "markdown",
      "metadata": {
        "id": "0XiLTXG0S1zt"
      },
      "source": [
        "m) Convert the date_opened and date_closed columns to datetime format"
      ]
    },
    {
      "cell_type": "code",
      "execution_count": 74,
      "metadata": {
        "id": "vr_lHtn2SzXW",
        "colab": {
          "base_uri": "https://localhost:8080/"
        },
        "outputId": "8fcbf95e-98e0-403f-9b22-d00e4548f1bd"
      },
      "outputs": [
        {
          "output_type": "execute_result",
          "data": {
            "text/plain": [
              "pandas._libs.tslibs.timestamps.Timestamp"
            ]
          },
          "metadata": {},
          "execution_count": 74
        }
      ],
      "source": [
        "type(df_order.loc[0,'date_opened'])"
      ]
    },
    {
      "cell_type": "code",
      "source": [
        "df_order['date_opened'] = pd.to_datetime(df_order['date_opened'])\n",
        "df_order['date_closed'] = pd.to_datetime(df_order['date_closed'])"
      ],
      "metadata": {
        "id": "90TyhxdvwyFU"
      },
      "execution_count": 75,
      "outputs": []
    },
    {
      "cell_type": "markdown",
      "metadata": {
        "id": "n9ZCQJscq-xI"
      },
      "source": [
        "n) Run the code below to calculate the time between the opening and closing date of an order in minutes."
      ]
    },
    {
      "cell_type": "code",
      "execution_count": 76,
      "metadata": {
        "ExecuteTime": {
          "end_time": "2021-12-05T17:34:35.565507Z",
          "start_time": "2021-12-05T17:34:35.558317Z"
        },
        "id": "HUNn5MUnq-xI",
        "colab": {
          "base_uri": "https://localhost:8080/",
          "height": 531
        },
        "outputId": "94365094-ae47-481d-827e-de759a6d2ee9"
      },
      "outputs": [
        {
          "output_type": "execute_result",
          "data": {
            "text/plain": [
              "   id_order  id_store  id_table  id_waiter  id_customer  \\\n",
              "0  55538867      8052       NaN        NaN          NaN   \n",
              "1  56035309      8052       NaN        NaN          NaN   \n",
              "2  55550051      8052       NaN        NaN          NaN   \n",
              "3  57000119      8052       NaN    16199.0          NaN   \n",
              "4  55558817      8052       NaN        NaN          NaN   \n",
              "\n",
              "                            id_external  id_device               date_opened  \\\n",
              "0  0425716B-EFF4-41CA-AEA1-839104F36833    15327.0 2019-01-12 13:02:17+00:00   \n",
              "1  75E41FE2-64FF-41D3-954C-A7DE4AA887EF    15327.0 2019-01-16 19:39:09+00:00   \n",
              "2  F6051A05-C9AC-4033-BF72-BB5149B8F439    15327.0 2019-01-12 14:18:46+00:00   \n",
              "3  B8BEEC66-1C10-48A0-B4D5-035CB5EEFE62    15327.0 2019-01-24 17:49:12+00:00   \n",
              "4  17F0533C-2FF1-4FC5-A50D-12704C7B7A4B    15327.0 2019-01-12 15:25:06+00:00   \n",
              "\n",
              "                date_closed                    dim_name dim_status  dim_type  \\\n",
              "0 2019-01-12 19:58:38+00:00                     vincent     CLOSED         1   \n",
              "1 2019-01-16 22:10:50+00:00  frere et soeur avec pierre     CLOSED         1   \n",
              "2 2019-01-12 19:50:32+00:00                      rachel     CLOSED         1   \n",
              "3 2019-01-24 21:58:59+00:00                  Groupe PEL     CLOSED         1   \n",
              "4 2019-01-12 19:21:03+00:00                remi et date     CLOSED         1   \n",
              "\n",
              "  dim_comment    dim_source  m_nb_customer  m_cached_payed  m_cached_price  \\\n",
              "0         NaN   Tiller iPAD              1            45.5            45.5   \n",
              "1         NaN   Tiller iPAD              2            49.8            49.8   \n",
              "2         NaN   Tiller iPAD              1            27.4            27.4   \n",
              "3         NaN  tiller-order              3            60.0            60.0   \n",
              "4         NaN   Tiller iPAD              2            39.9            39.9   \n",
              "\n",
              "   price_per_customer  time_sessions  \n",
              "0               45.50     416.350000  \n",
              "1               24.90     151.683333  \n",
              "2               27.40     331.766667  \n",
              "3               20.00     249.783333  \n",
              "4               19.95     235.950000  "
            ],
            "text/html": [
              "\n",
              "\n",
              "  <div id=\"df-dbdf7355-1f73-456d-b490-51a809d205f5\">\n",
              "    <div class=\"colab-df-container\">\n",
              "      <div>\n",
              "<style scoped>\n",
              "    .dataframe tbody tr th:only-of-type {\n",
              "        vertical-align: middle;\n",
              "    }\n",
              "\n",
              "    .dataframe tbody tr th {\n",
              "        vertical-align: top;\n",
              "    }\n",
              "\n",
              "    .dataframe thead th {\n",
              "        text-align: right;\n",
              "    }\n",
              "</style>\n",
              "<table border=\"1\" class=\"dataframe\">\n",
              "  <thead>\n",
              "    <tr style=\"text-align: right;\">\n",
              "      <th></th>\n",
              "      <th>id_order</th>\n",
              "      <th>id_store</th>\n",
              "      <th>id_table</th>\n",
              "      <th>id_waiter</th>\n",
              "      <th>id_customer</th>\n",
              "      <th>id_external</th>\n",
              "      <th>id_device</th>\n",
              "      <th>date_opened</th>\n",
              "      <th>date_closed</th>\n",
              "      <th>dim_name</th>\n",
              "      <th>dim_status</th>\n",
              "      <th>dim_type</th>\n",
              "      <th>dim_comment</th>\n",
              "      <th>dim_source</th>\n",
              "      <th>m_nb_customer</th>\n",
              "      <th>m_cached_payed</th>\n",
              "      <th>m_cached_price</th>\n",
              "      <th>price_per_customer</th>\n",
              "      <th>time_sessions</th>\n",
              "    </tr>\n",
              "  </thead>\n",
              "  <tbody>\n",
              "    <tr>\n",
              "      <th>0</th>\n",
              "      <td>55538867</td>\n",
              "      <td>8052</td>\n",
              "      <td>NaN</td>\n",
              "      <td>NaN</td>\n",
              "      <td>NaN</td>\n",
              "      <td>0425716B-EFF4-41CA-AEA1-839104F36833</td>\n",
              "      <td>15327.0</td>\n",
              "      <td>2019-01-12 13:02:17+00:00</td>\n",
              "      <td>2019-01-12 19:58:38+00:00</td>\n",
              "      <td>vincent</td>\n",
              "      <td>CLOSED</td>\n",
              "      <td>1</td>\n",
              "      <td>NaN</td>\n",
              "      <td>Tiller iPAD</td>\n",
              "      <td>1</td>\n",
              "      <td>45.5</td>\n",
              "      <td>45.5</td>\n",
              "      <td>45.50</td>\n",
              "      <td>416.350000</td>\n",
              "    </tr>\n",
              "    <tr>\n",
              "      <th>1</th>\n",
              "      <td>56035309</td>\n",
              "      <td>8052</td>\n",
              "      <td>NaN</td>\n",
              "      <td>NaN</td>\n",
              "      <td>NaN</td>\n",
              "      <td>75E41FE2-64FF-41D3-954C-A7DE4AA887EF</td>\n",
              "      <td>15327.0</td>\n",
              "      <td>2019-01-16 19:39:09+00:00</td>\n",
              "      <td>2019-01-16 22:10:50+00:00</td>\n",
              "      <td>frere et soeur avec pierre</td>\n",
              "      <td>CLOSED</td>\n",
              "      <td>1</td>\n",
              "      <td>NaN</td>\n",
              "      <td>Tiller iPAD</td>\n",
              "      <td>2</td>\n",
              "      <td>49.8</td>\n",
              "      <td>49.8</td>\n",
              "      <td>24.90</td>\n",
              "      <td>151.683333</td>\n",
              "    </tr>\n",
              "    <tr>\n",
              "      <th>2</th>\n",
              "      <td>55550051</td>\n",
              "      <td>8052</td>\n",
              "      <td>NaN</td>\n",
              "      <td>NaN</td>\n",
              "      <td>NaN</td>\n",
              "      <td>F6051A05-C9AC-4033-BF72-BB5149B8F439</td>\n",
              "      <td>15327.0</td>\n",
              "      <td>2019-01-12 14:18:46+00:00</td>\n",
              "      <td>2019-01-12 19:50:32+00:00</td>\n",
              "      <td>rachel</td>\n",
              "      <td>CLOSED</td>\n",
              "      <td>1</td>\n",
              "      <td>NaN</td>\n",
              "      <td>Tiller iPAD</td>\n",
              "      <td>1</td>\n",
              "      <td>27.4</td>\n",
              "      <td>27.4</td>\n",
              "      <td>27.40</td>\n",
              "      <td>331.766667</td>\n",
              "    </tr>\n",
              "    <tr>\n",
              "      <th>3</th>\n",
              "      <td>57000119</td>\n",
              "      <td>8052</td>\n",
              "      <td>NaN</td>\n",
              "      <td>16199.0</td>\n",
              "      <td>NaN</td>\n",
              "      <td>B8BEEC66-1C10-48A0-B4D5-035CB5EEFE62</td>\n",
              "      <td>15327.0</td>\n",
              "      <td>2019-01-24 17:49:12+00:00</td>\n",
              "      <td>2019-01-24 21:58:59+00:00</td>\n",
              "      <td>Groupe PEL</td>\n",
              "      <td>CLOSED</td>\n",
              "      <td>1</td>\n",
              "      <td>NaN</td>\n",
              "      <td>tiller-order</td>\n",
              "      <td>3</td>\n",
              "      <td>60.0</td>\n",
              "      <td>60.0</td>\n",
              "      <td>20.00</td>\n",
              "      <td>249.783333</td>\n",
              "    </tr>\n",
              "    <tr>\n",
              "      <th>4</th>\n",
              "      <td>55558817</td>\n",
              "      <td>8052</td>\n",
              "      <td>NaN</td>\n",
              "      <td>NaN</td>\n",
              "      <td>NaN</td>\n",
              "      <td>17F0533C-2FF1-4FC5-A50D-12704C7B7A4B</td>\n",
              "      <td>15327.0</td>\n",
              "      <td>2019-01-12 15:25:06+00:00</td>\n",
              "      <td>2019-01-12 19:21:03+00:00</td>\n",
              "      <td>remi et date</td>\n",
              "      <td>CLOSED</td>\n",
              "      <td>1</td>\n",
              "      <td>NaN</td>\n",
              "      <td>Tiller iPAD</td>\n",
              "      <td>2</td>\n",
              "      <td>39.9</td>\n",
              "      <td>39.9</td>\n",
              "      <td>19.95</td>\n",
              "      <td>235.950000</td>\n",
              "    </tr>\n",
              "  </tbody>\n",
              "</table>\n",
              "</div>\n",
              "      <button class=\"colab-df-convert\" onclick=\"convertToInteractive('df-dbdf7355-1f73-456d-b490-51a809d205f5')\"\n",
              "              title=\"Convert this dataframe to an interactive table.\"\n",
              "              style=\"display:none;\">\n",
              "\n",
              "  <svg xmlns=\"http://www.w3.org/2000/svg\" height=\"24px\"viewBox=\"0 0 24 24\"\n",
              "       width=\"24px\">\n",
              "    <path d=\"M0 0h24v24H0V0z\" fill=\"none\"/>\n",
              "    <path d=\"M18.56 5.44l.94 2.06.94-2.06 2.06-.94-2.06-.94-.94-2.06-.94 2.06-2.06.94zm-11 1L8.5 8.5l.94-2.06 2.06-.94-2.06-.94L8.5 2.5l-.94 2.06-2.06.94zm10 10l.94 2.06.94-2.06 2.06-.94-2.06-.94-.94-2.06-.94 2.06-2.06.94z\"/><path d=\"M17.41 7.96l-1.37-1.37c-.4-.4-.92-.59-1.43-.59-.52 0-1.04.2-1.43.59L10.3 9.45l-7.72 7.72c-.78.78-.78 2.05 0 2.83L4 21.41c.39.39.9.59 1.41.59.51 0 1.02-.2 1.41-.59l7.78-7.78 2.81-2.81c.8-.78.8-2.07 0-2.86zM5.41 20L4 18.59l7.72-7.72 1.47 1.35L5.41 20z\"/>\n",
              "  </svg>\n",
              "      </button>\n",
              "\n",
              "\n",
              "\n",
              "    <div id=\"df-420c27c9-f0b1-4c4f-b23c-a77927008354\">\n",
              "      <button class=\"colab-df-quickchart\" onclick=\"quickchart('df-420c27c9-f0b1-4c4f-b23c-a77927008354')\"\n",
              "              title=\"Suggest charts.\"\n",
              "              style=\"display:none;\">\n",
              "\n",
              "<svg xmlns=\"http://www.w3.org/2000/svg\" height=\"24px\"viewBox=\"0 0 24 24\"\n",
              "     width=\"24px\">\n",
              "    <g>\n",
              "        <path d=\"M19 3H5c-1.1 0-2 .9-2 2v14c0 1.1.9 2 2 2h14c1.1 0 2-.9 2-2V5c0-1.1-.9-2-2-2zM9 17H7v-7h2v7zm4 0h-2V7h2v10zm4 0h-2v-4h2v4z\"/>\n",
              "    </g>\n",
              "</svg>\n",
              "      </button>\n",
              "    </div>\n",
              "\n",
              "<style>\n",
              "  .colab-df-quickchart {\n",
              "    background-color: #E8F0FE;\n",
              "    border: none;\n",
              "    border-radius: 50%;\n",
              "    cursor: pointer;\n",
              "    display: none;\n",
              "    fill: #1967D2;\n",
              "    height: 32px;\n",
              "    padding: 0 0 0 0;\n",
              "    width: 32px;\n",
              "  }\n",
              "\n",
              "  .colab-df-quickchart:hover {\n",
              "    background-color: #E2EBFA;\n",
              "    box-shadow: 0px 1px 2px rgba(60, 64, 67, 0.3), 0px 1px 3px 1px rgba(60, 64, 67, 0.15);\n",
              "    fill: #174EA6;\n",
              "  }\n",
              "\n",
              "  [theme=dark] .colab-df-quickchart {\n",
              "    background-color: #3B4455;\n",
              "    fill: #D2E3FC;\n",
              "  }\n",
              "\n",
              "  [theme=dark] .colab-df-quickchart:hover {\n",
              "    background-color: #434B5C;\n",
              "    box-shadow: 0px 1px 3px 1px rgba(0, 0, 0, 0.15);\n",
              "    filter: drop-shadow(0px 1px 2px rgba(0, 0, 0, 0.3));\n",
              "    fill: #FFFFFF;\n",
              "  }\n",
              "</style>\n",
              "\n",
              "    <script>\n",
              "      async function quickchart(key) {\n",
              "        const containerElement = document.querySelector('#' + key);\n",
              "        const charts = await google.colab.kernel.invokeFunction(\n",
              "            'suggestCharts', [key], {});\n",
              "      }\n",
              "    </script>\n",
              "\n",
              "      <script>\n",
              "\n",
              "function displayQuickchartButton(domScope) {\n",
              "  let quickchartButtonEl =\n",
              "    domScope.querySelector('#df-420c27c9-f0b1-4c4f-b23c-a77927008354 button.colab-df-quickchart');\n",
              "  quickchartButtonEl.style.display =\n",
              "    google.colab.kernel.accessAllowed ? 'block' : 'none';\n",
              "}\n",
              "\n",
              "        displayQuickchartButton(document);\n",
              "      </script>\n",
              "      <style>\n",
              "    .colab-df-container {\n",
              "      display:flex;\n",
              "      flex-wrap:wrap;\n",
              "      gap: 12px;\n",
              "    }\n",
              "\n",
              "    .colab-df-convert {\n",
              "      background-color: #E8F0FE;\n",
              "      border: none;\n",
              "      border-radius: 50%;\n",
              "      cursor: pointer;\n",
              "      display: none;\n",
              "      fill: #1967D2;\n",
              "      height: 32px;\n",
              "      padding: 0 0 0 0;\n",
              "      width: 32px;\n",
              "    }\n",
              "\n",
              "    .colab-df-convert:hover {\n",
              "      background-color: #E2EBFA;\n",
              "      box-shadow: 0px 1px 2px rgba(60, 64, 67, 0.3), 0px 1px 3px 1px rgba(60, 64, 67, 0.15);\n",
              "      fill: #174EA6;\n",
              "    }\n",
              "\n",
              "    [theme=dark] .colab-df-convert {\n",
              "      background-color: #3B4455;\n",
              "      fill: #D2E3FC;\n",
              "    }\n",
              "\n",
              "    [theme=dark] .colab-df-convert:hover {\n",
              "      background-color: #434B5C;\n",
              "      box-shadow: 0px 1px 3px 1px rgba(0, 0, 0, 0.15);\n",
              "      filter: drop-shadow(0px 1px 2px rgba(0, 0, 0, 0.3));\n",
              "      fill: #FFFFFF;\n",
              "    }\n",
              "  </style>\n",
              "\n",
              "      <script>\n",
              "        const buttonEl =\n",
              "          document.querySelector('#df-dbdf7355-1f73-456d-b490-51a809d205f5 button.colab-df-convert');\n",
              "        buttonEl.style.display =\n",
              "          google.colab.kernel.accessAllowed ? 'block' : 'none';\n",
              "\n",
              "        async function convertToInteractive(key) {\n",
              "          const element = document.querySelector('#df-dbdf7355-1f73-456d-b490-51a809d205f5');\n",
              "          const dataTable =\n",
              "            await google.colab.kernel.invokeFunction('convertToInteractive',\n",
              "                                                     [key], {});\n",
              "          if (!dataTable) return;\n",
              "\n",
              "          const docLinkHtml = 'Like what you see? Visit the ' +\n",
              "            '<a target=\"_blank\" href=https://colab.research.google.com/notebooks/data_table.ipynb>data table notebook</a>'\n",
              "            + ' to learn more about interactive tables.';\n",
              "          element.innerHTML = '';\n",
              "          dataTable['output_type'] = 'display_data';\n",
              "          await google.colab.output.renderOutput(dataTable, element);\n",
              "          const docLink = document.createElement('div');\n",
              "          docLink.innerHTML = docLinkHtml;\n",
              "          element.appendChild(docLink);\n",
              "        }\n",
              "      </script>\n",
              "    </div>\n",
              "  </div>\n"
            ]
          },
          "metadata": {},
          "execution_count": 76
        }
      ],
      "source": [
        "df_order['time_sessions'] = (df_order['date_closed'] - df_order['date_opened']).dt.total_seconds() / 60\n",
        "df_order.head()"
      ]
    },
    {
      "cell_type": "markdown",
      "metadata": {
        "id": "J7rOdfqHUa1W"
      },
      "source": [
        "o) Calculate the average time at table for each restaurant."
      ]
    },
    {
      "cell_type": "code",
      "execution_count": 77,
      "metadata": {
        "ExecuteTime": {
          "end_time": "2021-12-05T17:35:08.547003Z",
          "start_time": "2021-12-05T17:35:08.529944Z"
        },
        "id": "cCj4sDxyq-xJ",
        "colab": {
          "base_uri": "https://localhost:8080/"
        },
        "outputId": "a898ca89-fef5-4502-8900-d52fd9a803eb"
      },
      "outputs": [
        {
          "output_type": "execute_result",
          "data": {
            "text/plain": [
              "id_store\n",
              "360      96.262090\n",
              "1796      3.399033\n",
              "4337      6.245097\n",
              "4542      3.930523\n",
              "6293     30.252533\n",
              "7965     53.715114\n",
              "8052    164.739022\n",
              "8283      2.005228\n",
              "8347      3.900000\n",
              "9084    103.050725\n",
              "Name: time_sessions, dtype: float64"
            ]
          },
          "metadata": {},
          "execution_count": 77
        }
      ],
      "source": [
        "df_order.groupby('id_store').time_sessions.mean()"
      ]
    },
    {
      "cell_type": "markdown",
      "metadata": {
        "id": "82pz9YvrU1Rj"
      },
      "source": [
        "Some restaurants have very short average order times. It seems that there are fast food restaurants among them."
      ]
    },
    {
      "cell_type": "markdown",
      "metadata": {
        "id": "vVyGwdcmWfgA"
      },
      "source": [
        "### Joins operations"
      ]
    },
    {
      "cell_type": "markdown",
      "metadata": {
        "ExecuteTime": {
          "end_time": "2021-12-05T16:57:15.668667Z",
          "start_time": "2021-12-05T16:57:15.666267Z"
        },
        "id": "6kN9eSVgq-xG"
      },
      "source": [
        "p) Download data [order_line](https://drive.google.com/file/d/1KSDFGLu2QAAR2C5SUlM5mfhINHU-LIuJ/view?usp=sharing) and [store_data](https://drive.google.com/file/d/1W032PaySL7gouyX3bEKgndtm6qVta7Qp/view?usp=sharing) and upload them in two DataFrame `df_line` and `df_store`."
      ]
    },
    {
      "cell_type": "code",
      "execution_count": 64,
      "metadata": {
        "ExecuteTime": {
          "end_time": "2021-12-05T16:57:01.438479Z",
          "start_time": "2021-12-05T16:57:00.204091Z"
        },
        "id": "-LeTQt0lq-xG"
      },
      "outputs": [],
      "source": [
        "df_line = pd.read_csv('/content/sample_data/Tiller_order_line.csv')\n",
        "df_store = pd.read_csv('/content/sample_data/Tiller_store_data.csv')"
      ]
    },
    {
      "cell_type": "markdown",
      "metadata": {
        "id": "1iQwsa6hq-xG"
      },
      "source": [
        "q) What new information do you have access to through this data?"
      ]
    },
    {
      "cell_type": "code",
      "execution_count": 65,
      "metadata": {
        "ExecuteTime": {
          "end_time": "2021-12-05T16:57:57.301518Z",
          "start_time": "2021-12-05T16:57:57.285313Z"
        },
        "id": "BQb_6lpBq-xG",
        "colab": {
          "base_uri": "https://localhost:8080/"
        },
        "outputId": "223f723d-a95a-4730-93f7-215da42b3379"
      },
      "outputs": [
        {
          "output_type": "execute_result",
          "data": {
            "text/plain": [
              "Index(['id_order_line', 'id_order', 'date_opended', 'date_created',\n",
              "       'm_quantity', 'm_unit_price', 'm_unit_price_exc_vat',\n",
              "       'm_total_price_inc_vat', 'm_total_price_exc_vat', 'm_tax_percent',\n",
              "       'm_discount_amount', 'dim_type', 'dim_category', 'dim_name',\n",
              "       'dim_status', 'm_nb_payed', 'dim_feature_type', 'dim_unit_measure',\n",
              "       'dim_unit_measure_display'],\n",
              "      dtype='object')"
            ]
          },
          "metadata": {},
          "execution_count": 65
        }
      ],
      "source": [
        "df_line.columns"
      ]
    },
    {
      "cell_type": "code",
      "source": [
        "df_store.columns"
      ],
      "metadata": {
        "colab": {
          "base_uri": "https://localhost:8080/"
        },
        "id": "QwIiDiwU3Lyy",
        "outputId": "7cfcf71d-2b98-4723-cb2f-dbdabbc4136a"
      },
      "execution_count": 66,
      "outputs": [
        {
          "output_type": "execute_result",
          "data": {
            "text/plain": [
              "Index(['id_store', 'date_created', 'dim_zipcode', 'dim_country',\n",
              "       'dim_currency'],\n",
              "      dtype='object')"
            ]
          },
          "metadata": {},
          "execution_count": 66
        }
      ]
    },
    {
      "cell_type": "code",
      "source": [
        "df_store.head()"
      ],
      "metadata": {
        "colab": {
          "base_uri": "https://localhost:8080/",
          "height": 206
        },
        "id": "8ADOQ7Qv3pGJ",
        "outputId": "3d2a6c02-9091-4b71-d24d-f74b30c03b79"
      },
      "execution_count": 78,
      "outputs": [
        {
          "output_type": "execute_result",
          "data": {
            "text/plain": [
              "   id_store               date_created dim_zipcode dim_country dim_currency\n",
              "0      2576  2016-07-12 16:15:31+00:00       34120          FR          EUR\n",
              "1      2538  2016-07-07 16:35:44+00:00       47800          FR          EUR\n",
              "2      2468  2016-06-30 12:44:25+00:00       06470          FR          EUR\n",
              "3      2375  2016-06-21 12:52:36+00:00       76000          FR          EUR\n",
              "4      2328  2016-06-16 13:59:52+00:00       75018          FR          EUR"
            ],
            "text/html": [
              "\n",
              "\n",
              "  <div id=\"df-4ba7cff2-88ef-4379-a3f3-12eff1caf646\">\n",
              "    <div class=\"colab-df-container\">\n",
              "      <div>\n",
              "<style scoped>\n",
              "    .dataframe tbody tr th:only-of-type {\n",
              "        vertical-align: middle;\n",
              "    }\n",
              "\n",
              "    .dataframe tbody tr th {\n",
              "        vertical-align: top;\n",
              "    }\n",
              "\n",
              "    .dataframe thead th {\n",
              "        text-align: right;\n",
              "    }\n",
              "</style>\n",
              "<table border=\"1\" class=\"dataframe\">\n",
              "  <thead>\n",
              "    <tr style=\"text-align: right;\">\n",
              "      <th></th>\n",
              "      <th>id_store</th>\n",
              "      <th>date_created</th>\n",
              "      <th>dim_zipcode</th>\n",
              "      <th>dim_country</th>\n",
              "      <th>dim_currency</th>\n",
              "    </tr>\n",
              "  </thead>\n",
              "  <tbody>\n",
              "    <tr>\n",
              "      <th>0</th>\n",
              "      <td>2576</td>\n",
              "      <td>2016-07-12 16:15:31+00:00</td>\n",
              "      <td>34120</td>\n",
              "      <td>FR</td>\n",
              "      <td>EUR</td>\n",
              "    </tr>\n",
              "    <tr>\n",
              "      <th>1</th>\n",
              "      <td>2538</td>\n",
              "      <td>2016-07-07 16:35:44+00:00</td>\n",
              "      <td>47800</td>\n",
              "      <td>FR</td>\n",
              "      <td>EUR</td>\n",
              "    </tr>\n",
              "    <tr>\n",
              "      <th>2</th>\n",
              "      <td>2468</td>\n",
              "      <td>2016-06-30 12:44:25+00:00</td>\n",
              "      <td>06470</td>\n",
              "      <td>FR</td>\n",
              "      <td>EUR</td>\n",
              "    </tr>\n",
              "    <tr>\n",
              "      <th>3</th>\n",
              "      <td>2375</td>\n",
              "      <td>2016-06-21 12:52:36+00:00</td>\n",
              "      <td>76000</td>\n",
              "      <td>FR</td>\n",
              "      <td>EUR</td>\n",
              "    </tr>\n",
              "    <tr>\n",
              "      <th>4</th>\n",
              "      <td>2328</td>\n",
              "      <td>2016-06-16 13:59:52+00:00</td>\n",
              "      <td>75018</td>\n",
              "      <td>FR</td>\n",
              "      <td>EUR</td>\n",
              "    </tr>\n",
              "  </tbody>\n",
              "</table>\n",
              "</div>\n",
              "      <button class=\"colab-df-convert\" onclick=\"convertToInteractive('df-4ba7cff2-88ef-4379-a3f3-12eff1caf646')\"\n",
              "              title=\"Convert this dataframe to an interactive table.\"\n",
              "              style=\"display:none;\">\n",
              "\n",
              "  <svg xmlns=\"http://www.w3.org/2000/svg\" height=\"24px\"viewBox=\"0 0 24 24\"\n",
              "       width=\"24px\">\n",
              "    <path d=\"M0 0h24v24H0V0z\" fill=\"none\"/>\n",
              "    <path d=\"M18.56 5.44l.94 2.06.94-2.06 2.06-.94-2.06-.94-.94-2.06-.94 2.06-2.06.94zm-11 1L8.5 8.5l.94-2.06 2.06-.94-2.06-.94L8.5 2.5l-.94 2.06-2.06.94zm10 10l.94 2.06.94-2.06 2.06-.94-2.06-.94-.94-2.06-.94 2.06-2.06.94z\"/><path d=\"M17.41 7.96l-1.37-1.37c-.4-.4-.92-.59-1.43-.59-.52 0-1.04.2-1.43.59L10.3 9.45l-7.72 7.72c-.78.78-.78 2.05 0 2.83L4 21.41c.39.39.9.59 1.41.59.51 0 1.02-.2 1.41-.59l7.78-7.78 2.81-2.81c.8-.78.8-2.07 0-2.86zM5.41 20L4 18.59l7.72-7.72 1.47 1.35L5.41 20z\"/>\n",
              "  </svg>\n",
              "      </button>\n",
              "\n",
              "\n",
              "\n",
              "    <div id=\"df-3c574366-9af6-4481-ae18-6127a6f81f6b\">\n",
              "      <button class=\"colab-df-quickchart\" onclick=\"quickchart('df-3c574366-9af6-4481-ae18-6127a6f81f6b')\"\n",
              "              title=\"Suggest charts.\"\n",
              "              style=\"display:none;\">\n",
              "\n",
              "<svg xmlns=\"http://www.w3.org/2000/svg\" height=\"24px\"viewBox=\"0 0 24 24\"\n",
              "     width=\"24px\">\n",
              "    <g>\n",
              "        <path d=\"M19 3H5c-1.1 0-2 .9-2 2v14c0 1.1.9 2 2 2h14c1.1 0 2-.9 2-2V5c0-1.1-.9-2-2-2zM9 17H7v-7h2v7zm4 0h-2V7h2v10zm4 0h-2v-4h2v4z\"/>\n",
              "    </g>\n",
              "</svg>\n",
              "      </button>\n",
              "    </div>\n",
              "\n",
              "<style>\n",
              "  .colab-df-quickchart {\n",
              "    background-color: #E8F0FE;\n",
              "    border: none;\n",
              "    border-radius: 50%;\n",
              "    cursor: pointer;\n",
              "    display: none;\n",
              "    fill: #1967D2;\n",
              "    height: 32px;\n",
              "    padding: 0 0 0 0;\n",
              "    width: 32px;\n",
              "  }\n",
              "\n",
              "  .colab-df-quickchart:hover {\n",
              "    background-color: #E2EBFA;\n",
              "    box-shadow: 0px 1px 2px rgba(60, 64, 67, 0.3), 0px 1px 3px 1px rgba(60, 64, 67, 0.15);\n",
              "    fill: #174EA6;\n",
              "  }\n",
              "\n",
              "  [theme=dark] .colab-df-quickchart {\n",
              "    background-color: #3B4455;\n",
              "    fill: #D2E3FC;\n",
              "  }\n",
              "\n",
              "  [theme=dark] .colab-df-quickchart:hover {\n",
              "    background-color: #434B5C;\n",
              "    box-shadow: 0px 1px 3px 1px rgba(0, 0, 0, 0.15);\n",
              "    filter: drop-shadow(0px 1px 2px rgba(0, 0, 0, 0.3));\n",
              "    fill: #FFFFFF;\n",
              "  }\n",
              "</style>\n",
              "\n",
              "    <script>\n",
              "      async function quickchart(key) {\n",
              "        const containerElement = document.querySelector('#' + key);\n",
              "        const charts = await google.colab.kernel.invokeFunction(\n",
              "            'suggestCharts', [key], {});\n",
              "      }\n",
              "    </script>\n",
              "\n",
              "      <script>\n",
              "\n",
              "function displayQuickchartButton(domScope) {\n",
              "  let quickchartButtonEl =\n",
              "    domScope.querySelector('#df-3c574366-9af6-4481-ae18-6127a6f81f6b button.colab-df-quickchart');\n",
              "  quickchartButtonEl.style.display =\n",
              "    google.colab.kernel.accessAllowed ? 'block' : 'none';\n",
              "}\n",
              "\n",
              "        displayQuickchartButton(document);\n",
              "      </script>\n",
              "      <style>\n",
              "    .colab-df-container {\n",
              "      display:flex;\n",
              "      flex-wrap:wrap;\n",
              "      gap: 12px;\n",
              "    }\n",
              "\n",
              "    .colab-df-convert {\n",
              "      background-color: #E8F0FE;\n",
              "      border: none;\n",
              "      border-radius: 50%;\n",
              "      cursor: pointer;\n",
              "      display: none;\n",
              "      fill: #1967D2;\n",
              "      height: 32px;\n",
              "      padding: 0 0 0 0;\n",
              "      width: 32px;\n",
              "    }\n",
              "\n",
              "    .colab-df-convert:hover {\n",
              "      background-color: #E2EBFA;\n",
              "      box-shadow: 0px 1px 2px rgba(60, 64, 67, 0.3), 0px 1px 3px 1px rgba(60, 64, 67, 0.15);\n",
              "      fill: #174EA6;\n",
              "    }\n",
              "\n",
              "    [theme=dark] .colab-df-convert {\n",
              "      background-color: #3B4455;\n",
              "      fill: #D2E3FC;\n",
              "    }\n",
              "\n",
              "    [theme=dark] .colab-df-convert:hover {\n",
              "      background-color: #434B5C;\n",
              "      box-shadow: 0px 1px 3px 1px rgba(0, 0, 0, 0.15);\n",
              "      filter: drop-shadow(0px 1px 2px rgba(0, 0, 0, 0.3));\n",
              "      fill: #FFFFFF;\n",
              "    }\n",
              "  </style>\n",
              "\n",
              "      <script>\n",
              "        const buttonEl =\n",
              "          document.querySelector('#df-4ba7cff2-88ef-4379-a3f3-12eff1caf646 button.colab-df-convert');\n",
              "        buttonEl.style.display =\n",
              "          google.colab.kernel.accessAllowed ? 'block' : 'none';\n",
              "\n",
              "        async function convertToInteractive(key) {\n",
              "          const element = document.querySelector('#df-4ba7cff2-88ef-4379-a3f3-12eff1caf646');\n",
              "          const dataTable =\n",
              "            await google.colab.kernel.invokeFunction('convertToInteractive',\n",
              "                                                     [key], {});\n",
              "          if (!dataTable) return;\n",
              "\n",
              "          const docLinkHtml = 'Like what you see? Visit the ' +\n",
              "            '<a target=\"_blank\" href=https://colab.research.google.com/notebooks/data_table.ipynb>data table notebook</a>'\n",
              "            + ' to learn more about interactive tables.';\n",
              "          element.innerHTML = '';\n",
              "          dataTable['output_type'] = 'display_data';\n",
              "          await google.colab.output.renderOutput(dataTable, element);\n",
              "          const docLink = document.createElement('div');\n",
              "          docLink.innerHTML = docLinkHtml;\n",
              "          element.appendChild(docLink);\n",
              "        }\n",
              "      </script>\n",
              "    </div>\n",
              "  </div>\n"
            ]
          },
          "metadata": {},
          "execution_count": 78
        }
      ]
    },
    {
      "cell_type": "markdown",
      "metadata": {
        "id": "dYEeRzsqq-xH"
      },
      "source": [
        "- Order line: The different products in an order\n",
        "- Store data : Information about the restaurant/bar"
      ]
    },
    {
      "cell_type": "markdown",
      "metadata": {
        "id": "OYsG4N6Lq-xH"
      },
      "source": [
        "r) How many orders were placed in the 2nd arrondissement of Paris?"
      ]
    },
    {
      "cell_type": "code",
      "execution_count": null,
      "metadata": {
        "ExecuteTime": {
          "end_time": "2021-12-05T17:01:32.347122Z",
          "start_time": "2021-12-05T17:01:32.204026Z"
        },
        "id": "EQkdLlUMq-xH"
      },
      "outputs": [],
      "source": [
        "df_order_info = df_order.merge(df_store, on= 'id_store')\n",
        "df_order_info.head()"
      ]
    },
    {
      "cell_type": "code",
      "source": [
        "mask = (df_order_info['dim_zipcode'] == '75002')\n",
        "second_arr = df_order_info[mask]\n",
        "\n",
        "# second_arr.info()\n",
        "len(second_arr)  # 59381"
      ],
      "metadata": {
        "colab": {
          "base_uri": "https://localhost:8080/"
        },
        "id": "IKYDgEbUf4-j",
        "outputId": "0d4939db-c8a7-4372-e6e9-4a9332b249dc"
      },
      "execution_count": 103,
      "outputs": [
        {
          "output_type": "execute_result",
          "data": {
            "text/plain": [
              "59381"
            ]
          },
          "metadata": {},
          "execution_count": 103
        }
      ]
    },
    {
      "cell_type": "markdown",
      "metadata": {
        "id": "ADA46_E1YZe_"
      },
      "source": [
        "s) Let's take the restaurant 4542. Its average ordering time was very short.\n",
        "\n",
        "Display the most ordered items in this restaurant. To do this, keep only the id_store and id_order columns from df_order and the id_order, id_order_line and dim_name columns from order_line.\n",
        "\n",
        "Note that the dim_name column exists in both df_order and df_line."
      ]
    },
    {
      "cell_type": "code",
      "execution_count": null,
      "metadata": {
        "id": "ggr_eaelq-xI"
      },
      "outputs": [],
      "source": [
        "df_4542 = df_order_info[df_order_info['id_store'] == 4542]\n",
        "df_4542"
      ]
    },
    {
      "cell_type": "code",
      "source": [
        "# add id_order_line & show order,order_line, dim_name, dim_category\n",
        "df_4542_info = df_4542[['id_order','id_store']].merge(df_line[[\"id_order\", \"id_order_line\", \"dim_name\", \"dim_category\"]], on=\"id_order\")\n",
        "# top 10 items\n",
        "df_4542_info.groupby('dim_name').size().sort_values(ascending = False).head(10)\n"
      ],
      "metadata": {
        "colab": {
          "base_uri": "https://localhost:8080/"
        },
        "id": "GNl4FAHnjY6I",
        "outputId": "76f27365-b9f1-4eff-d9fb-f94319799a42"
      },
      "execution_count": 125,
      "outputs": [
        {
          "output_type": "execute_result",
          "data": {
            "text/plain": [
              "dim_name\n",
              "Plat + Dessert + Boisson            7545\n",
              "Tapas + Plat + Boisson              4745\n",
              "Tapas + Plat + Dessert + Boisson    2978\n",
              "Plat                                 795\n",
              "Tortilla PdeT                        481\n",
              "Velouté                              435\n",
              "Crevettes Thaï coco                  423\n",
              "Dessert Divers                       305\n",
              "Cookies Choco « Maïs »               253\n",
              "Cab passion boulgour                 250\n",
              "dtype: int64"
            ]
          },
          "metadata": {},
          "execution_count": 125
        }
      ]
    },
    {
      "cell_type": "markdown",
      "metadata": {
        "id": "izDqbWd0fJRQ"
      },
      "source": [
        "Is it a fast food ? It's more a charcuterie"
      ]
    }
  ]
}